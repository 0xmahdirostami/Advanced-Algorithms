{
 "cells": [
  {
   "cell_type": "markdown",
   "id": "b401a0d7-4dc8-4bae-8867-1154f0764469",
   "metadata": {},
   "source": [
    "<h1>Sorting</h1>"
   ]
  },
  {
   "cell_type": "markdown",
   "id": "5cb59283-7449-4c28-801b-deebe3d5f8ec",
   "metadata": {},
   "source": [
    "##### There are lots of different sorting algorithms, here we'll review whose are mentioned in<br><br> <b>CLRS</b> or are more popular - [Bubble Sort](#Bubble_Sort), [Selection Sort](#Selection_Sort), [Insertion Sort](#Insertion_Sort), [Merge Sort](#Merge_Sort)<br><br>, [Heap Sort](#Heap_Sort), [Radix Sort](#Radix_Sort), [Bucket Sort](#Bucket_Sort), [Multithreaded Merge Sort](#Multithreaded_Merge_Sort), [Quick Sort](#Quick_Sort)."
   ]
  },
  {
   "cell_type": "markdown",
   "id": "451408a6-84ab-43c7-9981-96aa9578e64c",
   "metadata": {},
   "source": [
    "#### Python sorting algorithms: [Time Sort](#Time_Sort), [Quad Sort](#Quad_Sort)."
   ]
  },
  {
   "cell_type": "markdown",
   "id": "58a59544-aacb-49a6-bfc4-e4c27e20d9f0",
   "metadata": {},
   "source": [
    "### <a id='BUbble_Sort'>Bubble Sort</a>"
   ]
  },
  {
   "cell_type": "markdown",
   "id": "24a5d11f-b284-4063-be5c-6b95fcdfddd2",
   "metadata": {},
   "source": [
    "In Bubble sort the elements are swapped if they are in the wrong order."
   ]
  },
  {
   "cell_type": "code",
   "execution_count": 3,
   "id": "055df846-3d3e-441b-9753-65b5faec603b",
   "metadata": {},
   "outputs": [],
   "source": [
    "def swap(arr, i, j):\n",
    "        arr[i], arr[j] = arr[j], arr[i]"
   ]
  },
  {
   "cell_type": "code",
   "execution_count": 4,
   "id": "f32e959a-086b-4502-9836-5e9fa70accd8",
   "metadata": {},
   "outputs": [],
   "source": [
    "def bubble_sort(arr):\n",
    "    n = len(arr)\n",
    "    # It has to run at least once\n",
    "    swapped = True\n",
    "    while swapped:\n",
    "        swapped = False\n",
    "        for i in range(0, n-1):\n",
    "            if arr[i] > arr[i+1]:\n",
    "                swap(arr, i, i+1)\n",
    "                swapped = True\n",
    "                    \n",
    "    return arr"
   ]
  },
  {
   "cell_type": "code",
   "execution_count": 5,
   "id": "9140391e-5bc4-4e84-af91-6743df8790f7",
   "metadata": {},
   "outputs": [
    {
     "data": {
      "text/plain": [
       "[1, 2, 4, 5, 8]"
      ]
     },
     "execution_count": 5,
     "metadata": {},
     "output_type": "execute_result"
    }
   ],
   "source": [
    "nums = [5, 2, 1, 8, 4]\n",
    "bubble_sort(nums)"
   ]
  },
  {
   "cell_type": "markdown",
   "id": "5621bb29-0a1a-4ddf-b5a3-dbad21c5119b",
   "metadata": {},
   "source": [
    "<b>Time Complexity :</b>\n",
    "<br>\n",
    "&emsp; Best case: &emsp; O(n)\n",
    "<br>\n",
    "&emsp; Worst case: &emsp; O(n^2)\n",
    "<br>\n",
    "&emsp; Average case: &emsp; O(n^2)"
   ]
  },
  {
   "cell_type": "markdown",
   "id": "b5b1e0b9-c20d-4f17-ac7b-138aeaa2714d",
   "metadata": {},
   "source": [
    "<b>Space Complexity :</b>\n",
    "<br>\n",
    "&emsp; &emsp; O(1)"
   ]
  },
  {
   "cell_type": "markdown",
   "id": "28adb744-4b00-4044-8e77-fe425505b906",
   "metadata": {},
   "source": [
    "<b>Stability :</b>\n",
    "<br>\n",
    "&emsp; &emsp; Yes"
   ]
  },
  {
   "cell_type": "markdown",
   "id": "b9123216-bea8-464a-9f2e-67aeba9f3307",
   "metadata": {},
   "source": [
    "### <a id='Selection_Sort'>Selection Sort</a>"
   ]
  },
  {
   "cell_type": "markdown",
   "id": "0876b116-9d26-4be3-9e70-6518e029983d",
   "metadata": {},
   "source": [
    "we divide our input list / array into two parts: the sublist of items already sorted and the sublist of items remaining to be sorted that make up the rest of the list. We first find the smallest element in the unsorted sublist and place it at the end of the sorted sublist."
   ]
  },
  {
   "cell_type": "code",
   "execution_count": 4,
   "id": "ad8e6bed-925b-4250-810e-b8eab89694dd",
   "metadata": {},
   "outputs": [],
   "source": [
    "def selection_sort(arr):        \n",
    "    for i in range(len(arr)):\n",
    "        minimum = i\n",
    "        \n",
    "        for j in range(i + 1, len(arr)):\n",
    "            # Select the smallest value\n",
    "            if arr[j] < arr[minimum]:\n",
    "                minimum = j\n",
    "\n",
    "        # Place it at the front of the \n",
    "        # sorted end of the array\n",
    "        arr[minimum], arr[i] = arr[i], arr[minimum]\n",
    "            \n",
    "    return arr"
   ]
  },
  {
   "cell_type": "code",
   "execution_count": 5,
   "id": "55d391d6-5856-4cff-a315-891356d80eda",
   "metadata": {},
   "outputs": [
    {
     "name": "stdout",
     "output_type": "stream",
     "text": [
      "[3, 8, 11, 12, 20]\n"
     ]
    }
   ],
   "source": [
    "nums = [12, 8, 3, 20, 11]\n",
    "selection_sort(nums)\n",
    "print(nums)"
   ]
  },
  {
   "cell_type": "markdown",
   "id": "9c8cd6a0-4818-4840-81d8-18965083687c",
   "metadata": {},
   "source": [
    "<b>Time Complexity :</b>\n",
    "<br>\n",
    "&emsp; Best case: &emsp; O(n^2)\n",
    "<br>\n",
    "&emsp; Worst case: &emsp; O(n^2)\n",
    "<br>\n",
    "&emsp; Average case: &emsp; O(n^2)"
   ]
  },
  {
   "cell_type": "markdown",
   "id": "703732ad-606e-46d9-ae03-5f9e61567206",
   "metadata": {},
   "source": [
    "<b>Space Complexity :</b>\n",
    "<br>\n",
    "&emsp; &emsp; O(1)"
   ]
  },
  {
   "cell_type": "markdown",
   "id": "2f3d9b58-148f-490e-a3c6-a877e8f3b851",
   "metadata": {},
   "source": [
    "<b>Stability :</b>\n",
    "<br>\n",
    "&emsp; &emsp; No"
   ]
  },
  {
   "cell_type": "markdown",
   "id": "9fe63a17-724b-4392-a31f-1d6fa2a5c084",
   "metadata": {},
   "source": [
    "### <a id='Insertion_Sort'>Insertion Sort</a>"
   ]
  },
  {
   "cell_type": "markdown",
   "id": "e265df0e-e8e9-49a1-b5a1-10ce0b36c0fb",
   "metadata": {},
   "source": [
    "Insertion sort is a sorting algorithm that places an unsorted element at its suitable place in each iteration."
   ]
  },
  {
   "cell_type": "code",
   "execution_count": 74,
   "id": "04fc2eac-ae4f-4d8e-989f-a1a269b52280",
   "metadata": {},
   "outputs": [],
   "source": [
    "def insertion_sort(arr):\n",
    "    for i in range(len(arr)):\n",
    "        item = arr[i]\n",
    "        index = i\n",
    "        while index > 0 and arr[index - 1] > item:\n",
    "            # Swap the number down the list\n",
    "            arr[index] = arr[index - 1]\n",
    "            index = index - 1\n",
    "        # Break and do the final swap\n",
    "        arr[index] = item\n",
    "\n",
    "    return arr"
   ]
  },
  {
   "cell_type": "code",
   "execution_count": 75,
   "id": "d57d1980-8567-4225-9189-b42f3ac56839",
   "metadata": {},
   "outputs": [
    {
     "name": "stdout",
     "output_type": "stream",
     "text": [
      "[1, 6, 9, 15, 28]\n"
     ]
    }
   ],
   "source": [
    "nums = [9, 1, 15, 28, 6]\n",
    "insertion_sort(nums)\n",
    "print(nums)"
   ]
  },
  {
   "cell_type": "markdown",
   "id": "ef5ba999-0830-41d8-866e-b03bb8794830",
   "metadata": {},
   "source": [
    "<b>Time Complexity :</b>\n",
    "<br>\n",
    "&emsp; Best case: &emsp; O(n)\n",
    "<br>\n",
    "&emsp; Worst case: &emsp; O(n^2)\n",
    "<br>\n",
    "&emsp; Average case: &emsp; O(n^2)"
   ]
  },
  {
   "cell_type": "markdown",
   "id": "fd349638-86c7-4493-93fa-20000233216d",
   "metadata": {},
   "source": [
    "<b>Space Complexity :</b>\n",
    "<br>\n",
    "&emsp; &emsp; O(1)"
   ]
  },
  {
   "cell_type": "markdown",
   "id": "768af0b0-3a07-4c50-a252-7e05b3450828",
   "metadata": {},
   "source": [
    "<b>Stability :</b>\n",
    "<br>\n",
    "&emsp; &emsp; Yes"
   ]
  },
  {
   "cell_type": "markdown",
   "id": "bb3672e1-9a01-4052-9280-560ffe607b3b",
   "metadata": {},
   "source": [
    "### <a id='Merge_Sort'>Merg Sort</a>"
   ]
  },
  {
   "cell_type": "markdown",
   "id": "b18b7628-4c94-4a37-bb4c-29f8cae75cba",
   "metadata": {},
   "source": [
    "Merge sort is a perfectly elegant example of a Divide and Conquer algorithm. It simple uses the 2 main steps of such an algorithm:<br>\n",
    "(1) Continuously divide the unsorted list until you have N sublists, where each sublist has 1 element that is “unsorted” and N is the number of elements in the original array.<br>\n",
    "(2) Repeatedly merge i.e conquer the sublists together 2 at a time to produce new sorted sublists until all elements have been fully merged into a single sorted array.\n"
   ]
  },
  {
   "cell_type": "code",
   "execution_count": 11,
   "id": "2302c50c-44f9-404d-9339-be26b709791b",
   "metadata": {},
   "outputs": [],
   "source": [
    "def merge(left, right, merged):\n",
    "\n",
    "    left_cursor, right_cursor = 0, 0\n",
    "    while left_cursor < len(left) and right_cursor < len(right):\n",
    "      \n",
    "        # Sort each one and place into the result\n",
    "        if left[left_cursor] <= right[right_cursor]:\n",
    "            merged[left_cursor+right_cursor]=left[left_cursor]\n",
    "            left_cursor += 1\n",
    "        else:\n",
    "            merged[left_cursor + right_cursor] = right[right_cursor]\n",
    "            right_cursor += 1\n",
    "            \n",
    "    for left_cursor in range(left_cursor, len(left)):\n",
    "        merged[left_cursor + right_cursor] = left[left_cursor]\n",
    "        \n",
    "    for right_cursor in range(right_cursor, len(right)):\n",
    "        merged[left_cursor + right_cursor] = right[right_cursor]\n",
    "\n",
    "    return merged"
   ]
  },
  {
   "cell_type": "code",
   "execution_count": 12,
   "id": "4b4c36f7-ff74-4063-ac06-e995290e27fb",
   "metadata": {
    "tags": []
   },
   "outputs": [],
   "source": [
    "def merge_sort(arr):\n",
    "    if len(arr) <= 1:\n",
    "        return arr\n",
    "    mid = len(arr) // 2\n",
    "    left, right = merge_sort(arr[:mid]), merge_sort(arr[mid:])\n",
    "\n",
    "    # Merge each side together\n",
    "    return merge(left, right, arr.copy())"
   ]
  },
  {
   "cell_type": "code",
   "execution_count": 13,
   "id": "01c21953-8cdc-436e-85f1-0ebb8020e3b0",
   "metadata": {
    "tags": []
   },
   "outputs": [
    {
     "data": {
      "text/plain": [
       "[45, 68, 120, 176, 250]"
      ]
     },
     "execution_count": 13,
     "metadata": {},
     "output_type": "execute_result"
    }
   ],
   "source": [
    "arry = [120, 45, 68, 250, 176]\n",
    "merge_sort(arry)"
   ]
  },
  {
   "cell_type": "markdown",
   "id": "0c9620ad-412a-4ed5-98ce-dea31526af08",
   "metadata": {},
   "source": [
    "<b>Time Complexity :</b>\n",
    "<br>\n",
    "&emsp; Best case: &emsp; O(nlog(n))\n",
    "<br>\n",
    "&emsp; Worst case: &emsp; O(nlog(n))\n",
    "<br>\n",
    "&emsp; Average case: &emsp; O(nlog(n))"
   ]
  },
  {
   "cell_type": "markdown",
   "id": "52d9e5e0-9603-47ba-b319-33c81b9d8d81",
   "metadata": {},
   "source": [
    "<b>Space Complexity :</b>\n",
    "<br>\n",
    "&emsp; &emsp; O(n)"
   ]
  },
  {
   "cell_type": "markdown",
   "id": "aed784af-a94f-4690-8209-219e61c62c4b",
   "metadata": {},
   "source": [
    "<b>Stability :</b>\n",
    "<br>\n",
    "&emsp; &emsp; Yes"
   ]
  },
  {
   "cell_type": "markdown",
   "id": "8bfa7d5b-961f-4e84-b8b0-de598cd3773e",
   "metadata": {},
   "source": [
    "### <a id='Heap_Sort'>Heap Sort</a>"
   ]
  },
  {
   "cell_type": "markdown",
   "id": "aafa9e26-efd3-4a8d-81e0-97fcc454a5e4",
   "metadata": {},
   "source": [
    "Heapsort is a comparison based sorting technique based on a Binary Heap data structure. It is similar to selection sort where we first find the maximum element and place the maximum element at the end. We repeat the same process for the remaining element."
   ]
  },
  {
   "cell_type": "markdown",
   "id": "b09482ce-cf43-49a7-880e-f7cf54b5ab57",
   "metadata": {},
   "source": [
    "<b>How to \"heapify\" a tree?</b>"
   ]
  },
  {
   "cell_type": "markdown",
   "id": "a6e59f4e-fc5a-4927-9b82-9c4610fff516",
   "metadata": {},
   "source": [
    "Starting from a complete binary tree, we can modify it to become a Max-Heap by running a function called heapify on all the non-leaf elements of the heap.\n",
    "Since heapify uses recursion, it can be difficult to grasp. So let's first think about how you would heapify a tree with just three elements."
   ]
  },
  {
   "cell_type": "code",
   "execution_count": 45,
   "id": "8a51ca76-cfd8-4de9-b517-3cc2e60106a2",
   "metadata": {},
   "outputs": [],
   "source": [
    "def heapify(nums, heap_size, root_index):\n",
    "    # Assume the index of the largest element is the root index\n",
    "    largest = root_index\n",
    "    left_child = (2 * root_index) + 1\n",
    "    right_child = (2 * root_index) + 2\n",
    "    # If the left child of the root is a valid index, and the element is greater\n",
    "    # than the current largest element, then update the largest element\n",
    "    if left_child < heap_size and nums[left_child] > nums[largest]:\n",
    "        largest = left_child\n",
    "    # Do the same for the right child of the root\n",
    "    if right_child < heap_size and nums[right_child] > nums[largest]:\n",
    "        largest = right_child\n",
    "    # If the largest element is no longer the root element, swap them\n",
    "    if largest != root_index:\n",
    "        nums[root_index], nums[largest] = nums[largest], nums[root_index]\n",
    "        heapify(nums, heap_size, largest)"
   ]
  },
  {
   "cell_type": "code",
   "execution_count": 46,
   "id": "1be86c01-0b8f-4a6d-b39b-a91fb87dbc0e",
   "metadata": {},
   "outputs": [],
   "source": [
    "def heap_sort(nums):\n",
    "    n = len(nums)\n",
    "    # Create a Max Heap from the list\n",
    "    for i in range(n, -1, -1):\n",
    "        heapify(nums, n, i)\n",
    "    # Move the root of the max heap to the end of\n",
    "    for i in range(n - 1, 0, -1):\n",
    "        nums[i], nums[0] = nums[0], nums[i]\n",
    "        heapify(nums, i, 0)"
   ]
  },
  {
   "cell_type": "code",
   "execution_count": 47,
   "id": "d7387a14-cc6e-4668-a089-a4b2843c4842",
   "metadata": {},
   "outputs": [
    {
     "name": "stdout",
     "output_type": "stream",
     "text": [
      "[8, 12, 35, 43, 51]\n"
     ]
    }
   ],
   "source": [
    "nums = [35, 12, 43, 8, 51]\n",
    "heap_sort(nums)\n",
    "print(nums)"
   ]
  },
  {
   "cell_type": "markdown",
   "id": "750de20a-a4de-48f2-b9b6-1e1d8c51f852",
   "metadata": {},
   "source": [
    "<b>Time Complexity :</b>\n",
    "<br>\n",
    "&emsp;Best case:&emsp; O(nlog(n))\n",
    "<br>\n",
    "&emsp;Worst case:&emsp; O(nlog(n))\n",
    "<br>\n",
    "&emsp;Avrage case:&emsp; O(nlog(n))"
   ]
  },
  {
   "cell_type": "markdown",
   "id": "3089e716-6808-4683-8a0e-904c98499983",
   "metadata": {},
   "source": [
    "<b>Space Complexity :</b>\n",
    "<br>\n",
    "&emsp; &emsp; O(1)"
   ]
  },
  {
   "cell_type": "markdown",
   "id": "f4455c90-c249-437e-8c11-ae3d4f625ecd",
   "metadata": {},
   "source": [
    "<b>Stability :</b>\n",
    "<br>\n",
    "&emsp; &emsp; No"
   ]
  },
  {
   "cell_type": "markdown",
   "id": "1c3ecb23-0bc0-4162-a691-86f90193de2e",
   "metadata": {},
   "source": [
    "### <a id='Radix_Sort'>Radix Sort</a>"
   ]
  },
  {
   "cell_type": "markdown",
   "id": "56fbfbdb-d19a-4e61-a815-6a6b4b9f2f1e",
   "metadata": {},
   "source": [
    "The idea of Radix Sort is to do digit by digit sort starting from least significant digit to most significant digit. Radix sort uses counting sort as a subroutine to sort."
   ]
  },
  {
   "cell_type": "markdown",
   "id": "6a59feb5-812b-43dc-a59b-2ddd23b21ed4",
   "metadata": {},
   "source": [
    "###### Counting Sort"
   ]
  },
  {
   "cell_type": "code",
   "execution_count": 14,
   "id": "c298d2ff-03ab-4c55-b8f8-edbe06e5f092",
   "metadata": {},
   "outputs": [],
   "source": [
    "def countingSort(arr, exp1):\n",
    "\n",
    "    n = len(arr)\n",
    "    output = [0] * (n)\n",
    "    count = [0] * (10)\n",
    "    for i in range(0, n):\n",
    "        index = arr[i] // exp1\n",
    "        count[index % 10] += 1\n",
    "    for i in range(1, 10):\n",
    "        count[i] += count[i - 1]\n",
    "    i = n - 1\n",
    "    while i >= 0:\n",
    "        index = arr[i] // exp1\n",
    "        output[count[index % 10] - 1] = arr[i]\n",
    "        count[index % 10] -= 1\n",
    "        i -= 1\n",
    "    i = 0\n",
    "    for i in range(0, len(arr)):\n",
    "        arr[i] = output[i]"
   ]
  },
  {
   "cell_type": "code",
   "execution_count": 15,
   "id": "e9b8d0c5-155e-48fb-baa5-c20a8beb58ca",
   "metadata": {},
   "outputs": [],
   "source": [
    "\n",
    "def radixSort(arr):\n",
    "    max1 = max(arr)\n",
    "    exp = 1\n",
    "    while max1 / exp > 1:\n",
    "        countingSort(arr, exp)\n",
    "        exp *= 10"
   ]
  },
  {
   "cell_type": "code",
   "execution_count": 17,
   "id": "e7ad592c-4f1c-4336-b200-ff3d9cc511f2",
   "metadata": {},
   "outputs": [
    {
     "data": {
      "text/plain": [
       "[2, 24, 45, 66, 75, 90, 170, 802]"
      ]
     },
     "execution_count": 17,
     "metadata": {},
     "output_type": "execute_result"
    }
   ],
   "source": [
    "arr = [170, 45, 75, 90, 802, 24, 2, 66]\n",
    "radixSort(arr)\n",
    "arr"
   ]
  },
  {
   "cell_type": "markdown",
   "id": "d44e1e17-3045-469a-9d8d-e12adc556339",
   "metadata": {},
   "source": [
    "<b>Time Complexity :</b>\n",
    "<br>\n",
    "&emsp;O(d*(n+b))<br>\n",
    "&emsp;If d is constant: O(n)"
   ]
  },
  {
   "cell_type": "markdown",
   "id": "b05fafce-0f27-4b37-bfd2-1395b449e7c3",
   "metadata": {},
   "source": [
    "<b>Space Complexity :</b>\n",
    "<br>\n",
    "&emsp; &emsp; O(n+2^d)"
   ]
  },
  {
   "cell_type": "markdown",
   "id": "bf45d434-de11-4c74-8ed2-aa4b8f784eb2",
   "metadata": {},
   "source": [
    "<b>Stability :</b>\n",
    "<br>\n",
    "&emsp; &emsp; Yes"
   ]
  },
  {
   "cell_type": "markdown",
   "id": "5fea0bba-b400-4838-b531-96a2d6592459",
   "metadata": {},
   "source": [
    "### <a id='Bucket_Sort'>Bucket Sort</a>"
   ]
  },
  {
   "cell_type": "markdown",
   "id": "0aacf958-4c83-441b-bf51-be65d455ddbb",
   "metadata": {},
   "source": [
    "Bucket Sort is a sorting algorithm that divides the unsorted array elements into several groups called buckets. Each bucket is then sorted by using any of the suitable sorting algorithms or recursively applying the same bucket algorithm.<br>\n",
    "Finally, the sorted buckets are combined to form a final sorted array."
   ]
  },
  {
   "cell_type": "code",
   "execution_count": 18,
   "id": "1ba158c2-246e-43d5-843d-5a59d767c3a6",
   "metadata": {},
   "outputs": [],
   "source": [
    "def bucketSort(array):\n",
    "    bucket = []\n",
    "    # Create empty buckets\n",
    "    for i in range(len(array)):\n",
    "        bucket.append([])\n",
    "    # Insert elements into their respective buckets\n",
    "    for j in array:\n",
    "        index_b = int(10 * j)\n",
    "        bucket[index_b].append(j)\n",
    "    # Sort the elements of each bucket\n",
    "    for i in range(len(array)):\n",
    "        bucket[i] = sorted(bucket[i])\n",
    "    # Get the sorted elements\n",
    "    k = 0\n",
    "    for i in range(len(array)):\n",
    "        for j in range(len(bucket[i])):\n",
    "            array[k] = bucket[i][j]\n",
    "            k += 1\n",
    "    return array"
   ]
  },
  {
   "cell_type": "code",
   "execution_count": 20,
   "id": "d4015159-6fc6-4ddf-a82b-5e1d6a16178d",
   "metadata": {},
   "outputs": [
    {
     "data": {
      "text/plain": [
       "[0.32, 0.33, 0.37, 0.42, 0.47, 0.51, 0.52]"
      ]
     },
     "execution_count": 20,
     "metadata": {},
     "output_type": "execute_result"
    }
   ],
   "source": [
    "array = [.42, .32, .33, .52, .37, .47, .51]\n",
    "bucketSort(array)"
   ]
  },
  {
   "cell_type": "markdown",
   "id": "761e9ae5-f404-4478-94ed-853d9865f0fa",
   "metadata": {},
   "source": [
    "<b>Time Complexity :</b>\n",
    "<br>\n",
    "&emsp;Best case:&emsp; O(n+k)\n",
    "<br>\n",
    "&emsp;Worst case:&emsp; O(n^2))\n",
    "<br>\n",
    "&emsp;Avrage case:&emsp; O(n)"
   ]
  },
  {
   "cell_type": "markdown",
   "id": "af0d7a86-670a-4612-bcc9-0bbe49329022",
   "metadata": {},
   "source": [
    "<b>Space Complexity :</b>\n",
    "<br>\n",
    "&emsp; &emsp; O(n+k)"
   ]
  },
  {
   "cell_type": "markdown",
   "id": "58007578-e3ca-476f-8372-00838aa3dc94",
   "metadata": {},
   "source": [
    "<b>Stability :</b>\n",
    "<br>\n",
    "&emsp; &emsp; Yes"
   ]
  },
  {
   "cell_type": "markdown",
   "id": "a552d6b9-cc9b-4a13-ba84-0d164e728d60",
   "metadata": {},
   "source": [
    "### <a id='Multithreaded_Merge_Sort'>Multithreaded Merge Sort</a>"
   ]
  },
  {
   "cell_type": "markdown",
   "id": "5f942c17-2af7-4486-8260-639828350bb0",
   "metadata": {},
   "source": [
    "Multi-threading is way to improve parallelism by running the threads simultaneously in different cores of your processor. "
   ]
  },
  {
   "cell_type": "markdown",
   "id": "9a5cec10-3f2b-44b6-a9e5-52a11c267d7e",
   "metadata": {},
   "source": [
    "[Multithreaded Merge Sort in Python](https://gist.github.com/stephenmcd/39ded69946155930c347 \"https://gist.github.com/stephenmcd/39ded69946155930c347\")"
   ]
  },
  {
   "cell_type": "markdown",
   "id": "3c28ac9b-ca5c-4d7d-a513-f83105428c4d",
   "metadata": {},
   "source": [
    "### <a id='Quick_Sort'>Quick Sort</a>"
   ]
  },
  {
   "cell_type": "markdown",
   "id": "e0bd46ec-8548-459d-beae-0877bf748052",
   "metadata": {},
   "source": [
    "Quick sort is also a divide and conquer algorithm like merge sort. Although it’s a bit more complicated.<br>\n",
    "It has 3 main steps:<br>\n",
    "(1) We first select an element which we will call the pivot from the array.\n",
    "<br>\n",
    "(2) Move all elements that are smaller than the pivot to the left of the pivot; move all elements that are larger than the pivot to the right of the pivot. This is called the partition operation.\n",
    "<br>\n",
    "(3) Recursively apply the above 2 steps separately to each of the sub-arrays of elements with smaller and bigger values than the last pivot."
   ]
  },
  {
   "cell_type": "code",
   "execution_count": 42,
   "id": "1d584f3f-ba5a-4eec-af01-474e97b30c5f",
   "metadata": {},
   "outputs": [],
   "source": [
    "def partition(arr, low, high):\n",
    "    i = (low-1)\n",
    "    pivot = arr[high]\n",
    "    for j in range(low, high):\n",
    "        if arr[j] <= pivot:\n",
    "            i = i+1\n",
    "            arr[i], arr[j] = arr[j], arr[i]\n",
    "    arr[i+1], arr[high] = arr[high], arr[i+1]\n",
    "    return (i+1)"
   ]
  },
  {
   "cell_type": "code",
   "execution_count": 43,
   "id": "420f7f05-812f-4bad-99e1-9142474ae4d5",
   "metadata": {},
   "outputs": [],
   "source": [
    "def quickSort(arr, low, high):\n",
    "    if len(arr) == 1:\n",
    "        return arr\n",
    "    if low < high:\n",
    "        pi = partition(arr, low, high)\n",
    "    # Separately sort elements before\n",
    "    # partition and after partition\n",
    "    quickSort(arr, low, pi-1)\n",
    "    quickSort(arr, pi+1, high)"
   ]
  },
  {
   "cell_type": "code",
   "execution_count": 44,
   "id": "ed40e316-1672-490d-b56e-3e1067c385d3",
   "metadata": {},
   "outputs": [
    {
     "data": {
      "text/plain": [
       "[1, 5, 18, 22, 99]"
      ]
     },
     "execution_count": 44,
     "metadata": {},
     "output_type": "execute_result"
    }
   ],
   "source": [
    "arry = [22, 5, 1, 18, 99]\n",
    "low, high = 0, len(arry)-1 \n",
    "quick_sort(arry)\n",
    "arry"
   ]
  },
  {
   "cell_type": "markdown",
   "id": "319838dd-30ef-4003-ad48-e8c290e3c777",
   "metadata": {},
   "source": [
    "<b>Time Complexity :</b>\n",
    "<br>\n",
    "&emsp;Best case: &emsp; O(nlog(n))\n",
    "<br>\n",
    "&emsp;Worst case: &emsp; O(n^2)\n",
    "<br>\n",
    "&emsp;Avrage case:&emsp; O(nlog(n))"
   ]
  },
  {
   "cell_type": "markdown",
   "id": "3de265d1-9244-4361-bdf8-80203cfd7bf1",
   "metadata": {},
   "source": [
    "<b>Space Complexity :</b>\n",
    "<br>\n",
    "&emsp; &emsp; O(log(n))"
   ]
  },
  {
   "cell_type": "markdown",
   "id": "6f15953b-3b10-43f9-b94e-23550891ece3",
   "metadata": {},
   "source": [
    "<b>Stability :</b>\n",
    "<br>\n",
    "&emsp; &emsp; No"
   ]
  },
  {
   "cell_type": "markdown",
   "id": "8a2c723d-dc2a-4068-aae9-76be5f362315",
   "metadata": {},
   "source": [
    "### compare running time:"
   ]
  },
  {
   "cell_type": "code",
   "execution_count": 23,
   "id": "fdbfacb3-2656-4ad0-ac9d-f7aaf0bfff42",
   "metadata": {},
   "outputs": [],
   "source": [
    "import matplotlib.pyplot as plt\n",
    "import math\n",
    "%matplotlib inline"
   ]
  },
  {
   "cell_type": "code",
   "execution_count": 33,
   "id": "1e9ae213-50db-4485-a6c9-e1810a84e00d",
   "metadata": {},
   "outputs": [],
   "source": [
    "x = [i for i in range (1_000)]\n",
    "y = [i**2 for i in x]\n",
    "z = [i*math.log(i) for i in x[1:]]"
   ]
  },
  {
   "cell_type": "code",
   "execution_count": 34,
   "id": "c593051c-8d34-49c2-8b15-64c597ce1cfb",
   "metadata": {},
   "outputs": [
    {
     "data": {
      "image/png": "[encoded data removed]",
      "text/plain": [
       "<Figure size 432x288 with 1 Axes>"
      ]
     },
     "metadata": {
      "needs_background": "light"
     },
     "output_type": "display_data"
    }
   ],
   "source": [
    "plt.plot(x, y, label='Bubble, Selection, Insertion')\n",
    "plt.plot(x[1:], z, label='Heap, Merge, Quick')\n",
    "plt.plot(x, x, label='Radix, Bucket')\n",
    "plt.xlabel('input')\n",
    "plt.ylabel('time')\n",
    "plt.title('running time comparison(Average case)')\n",
    "plt.legend()\n",
    "plt.show()"
   ]
  },
  {
   "cell_type": "markdown",
   "id": "e2139254-ab59-4adf-af07-c569008bb1df",
   "metadata": {},
   "source": [
    "### <a id='Time_Sort'>Time Sort</a>"
   ]
  },
  {
   "cell_type": "markdown",
   "id": "52c7275c-c15f-4a9e-9fe6-502ea12b453b",
   "metadata": {},
   "source": [
    "Timsort (derived from merge sort and insertion sort) was introduced in 2002 and while slower than quicksort for random data, Timsort performs better on ordered data."
   ]
  },
  {
   "cell_type": "markdown",
   "id": "ae78a179-a37c-4792-bb15-7cd752708f84",
   "metadata": {},
   "source": [
    "Timsort is a hybrid stable sorting algorithm, derived from merge sort and insertion sort, designed to perform well on many kinds of real-world data. The algorithm finds subsequences of the data that are already ordered (runs) and uses them to sort the remainder more efficiently. This is done by merging runs until certain criteria are fulfilled. Timsort has been <b>Python's standard sorting algorithm since version 2.3</b>."
   ]
  },
  {
   "cell_type": "markdown",
   "id": "10fb3520-3846-4321-a070-1e57d4d2aa4d",
   "metadata": {},
   "source": [
    "Time sort advantages against Quick sort:<br>\n",
    "(1) It is unbelievably fast for nearly sorted data sequence (including reverse sorted data).\n",
    "<br>\n",
    "(2)The worst case is still O(N*LOG(N))."
   ]
  },
  {
   "cell_type": "markdown",
   "id": "e0e9b79e-872d-4f66-a60e-ec0c99b7d64b",
   "metadata": {},
   "source": [
    "(1)Divide the array into blocks known as run<br>\n",
    "(2)The size of a run can either be 32 or 64<br>\n",
    "(3)Sort the elements of every run using insertion sort<br>\n",
    "(4)Merge the sorted runs using the merge sort algorithm<br>\n",
    "(5)Double the size of the merged array after every iteration<br>"
   ]
  },
  {
   "cell_type": "markdown",
   "id": "7c1d6040-6dc7-469b-b5e2-4175fb864fc8",
   "metadata": {},
   "source": [
    "Timsort is offically implemented in C, not Python. [ source code](https://github.com/python/cpython/blob/main/Objects/listobject.c)"
   ]
  },
  {
   "cell_type": "markdown",
   "id": "e1a97d3a-b7b6-48d5-811c-5510f80f32f1",
   "metadata": {},
   "source": [
    "python built in sort function:"
   ]
  },
  {
   "cell_type": "code",
   "execution_count": 45,
   "id": "5f796a85-e5bb-4864-b97b-a0a8cf5a23e9",
   "metadata": {},
   "outputs": [
    {
     "name": "stdout",
     "output_type": "stream",
     "text": [
      "[-2, -1, 1, 1, 2, 2, 4, 4, 5, 5, 6, 99, 159]\n",
      "[-2, -1, 1, 1, 2, 2, 4, 4, 5, 5, 6, 99, 159]\n"
     ]
    }
   ],
   "source": [
    "arry = [1,4,5,4,1,2,159,-1,-2,2,5,6,99]\n",
    "li = sorted(arry)\n",
    "arry.sort()\n",
    "print(li)\n",
    "print(arry)"
   ]
  },
  {
   "cell_type": "markdown",
   "id": "4918c627-4be3-494f-9957-cb651cbc1366",
   "metadata": {},
   "source": [
    "<b>Time Complexity :</b>\n",
    "<br>\n",
    "&emsp;Best case: &emsp; O(n)\n",
    "<br>\n",
    "&emsp;Worst case: &emsp; O(nlog(n)\n",
    "<br>\n",
    "&emsp;Avrage case:&emsp; O(nlog(n))"
   ]
  },
  {
   "cell_type": "code",
   "execution_count": 46,
   "id": "d55ee972-a3bc-455f-a224-22f7f7455e44",
   "metadata": {},
   "outputs": [],
   "source": [
    "x = [i for i in range (1_000)]\n",
    "y = [i**2 for i in x]\n",
    "z = [i*math.log(i) for i in x[1:]]"
   ]
  },
  {
   "cell_type": "code",
   "execution_count": 48,
   "id": "668166f8-b2f7-41a2-9821-1d820c517026",
   "metadata": {},
   "outputs": [
    {
     "data": {
      "image/png": "[encoded data removed]",
      "text/plain": [
       "<Figure size 432x288 with 1 Axes>"
      ]
     },
     "metadata": {
      "needs_background": "light"
     },
     "output_type": "display_data"
    }
   ],
   "source": [
    "plt.plot(x[1:], z, label='Merge, Quick')\n",
    "plt.plot(x, x, label='Time')\n",
    "plt.xlabel('input')\n",
    "plt.ylabel('time')\n",
    "plt.title('running time comparison(Best case)')\n",
    "plt.legend()\n",
    "plt.show()"
   ]
  },
  {
   "cell_type": "code",
   "execution_count": 49,
   "id": "744e306c-adcb-45b4-8016-19cc53dfe8a4",
   "metadata": {},
   "outputs": [
    {
     "data": {
      "image/png": "[encoded data removed]",
      "text/plain": [
       "<Figure size 432x288 with 1 Axes>"
      ]
     },
     "metadata": {
      "needs_background": "light"
     },
     "output_type": "display_data"
    }
   ],
   "source": [
    "plt.plot(x[1:], z, label='Merge, Quick, Time')\n",
    "plt.xlabel('input')\n",
    "plt.ylabel('time')\n",
    "plt.title('running time comparison(Average case)')\n",
    "plt.legend()\n",
    "plt.show()"
   ]
  },
  {
   "cell_type": "code",
   "execution_count": 50,
   "id": "08b9f6a2-3c92-45a0-a4a7-39b94431d531",
   "metadata": {},
   "outputs": [
    {
     "data": {
      "image/png": "[encoded data removed]",
      "text/plain": [
       "<Figure size 432x288 with 1 Axes>"
      ]
     },
     "metadata": {
      "needs_background": "light"
     },
     "output_type": "display_data"
    }
   ],
   "source": [
    "plt.plot(x[1:], z, label='Merge, Time')\n",
    "plt.plot(x, y, label='Quick')\n",
    "plt.xlabel('input')\n",
    "plt.ylabel('time')\n",
    "plt.title('running time comparison(Best case)')\n",
    "plt.legend()\n",
    "plt.show()"
   ]
  },
  {
   "cell_type": "markdown",
   "id": "da8602c4-9341-4c05-8f04-04350934fc8a",
   "metadata": {},
   "source": [
    "<b>Is there a sorting algorithm faster than quicksort and timesort ?<b>"
   ]
  },
  {
   "cell_type": "markdown",
   "id": "feebf16f-4cb3-42b7-b63d-980b9d1f8bbb",
   "metadata": {},
   "source": [
    "### <a id='Quad_Sort'>Quad Sort</a>"
   ]
  },
  {
   "cell_type": "markdown",
   "id": "242f7e78-d96e-4b79-bcc2-8b4b834a7b00",
   "metadata": {},
   "source": [
    "Quadsort (derived from merge sort) was introduced in 2020 and is faster than quicksort for random data, and slightly faster than Timsort on ordered data.\n",
    "<br>\n",
    "Also of notice is the significant performance difference on small arrays, quadsort is on average two times faster than Timsort on data sets between 10 and 1000 elements. Quadsort achieves this performance through several optimizations spread out over 1500 lines of code that get the maximum performance out of merge sort.\n",
    "<br>"
   ]
  },
  {
   "cell_type": "markdown",
   "id": "2ee5e7f8-a747-4d1b-9198-f60c1e041cd0",
   "metadata": {},
   "source": [
    "This document describes a stable bottom-up adaptive merge sort named quadsort. A visualisation and benchmarks are available at the bottom  [quad sort](https://github.com/scandum/quadsort \"https://github.com/scandum/quadsort\")."
   ]
  }
 ],
 "metadata": {
  "kernelspec": {
   "display_name": "Python 3",
   "language": "python",
   "name": "python3"
  },
  "language_info": {
   "codemirror_mode": {
    "name": "ipython",
    "version": 3
   },
   "file_extension": ".py",
   "mimetype": "text/x-python",
   "name": "python",
   "nbconvert_exporter": "python",
   "pygments_lexer": "ipython3",
   "version": "3.8.8"
  }
 },
 "nbformat": 4,
 "nbformat_minor": 5
}
