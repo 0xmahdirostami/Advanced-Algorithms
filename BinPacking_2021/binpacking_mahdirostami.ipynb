{
 "cells": [
  {
   "cell_type": "markdown",
   "id": "804bccc7",
   "metadata": {},
   "source": [
    "# BIN PACKING"
   ]
  },
  {
   "cell_type": "markdown",
   "id": "86485882",
   "metadata": {},
   "source": [
    "## next fit"
   ]
  },
  {
   "cell_type": "code",
   "execution_count": 1,
   "id": "12786e2e",
   "metadata": {},
   "outputs": [],
   "source": [
    "# Returns number of bins required using next fit\n",
    "def next_fit(height_list, bin_space):\n",
    "    bins = 1\n",
    "    space = bin_space\n",
    "    n = len((height_list))\n",
    "    for _ in range(n):\n",
    "        if space >= height_list[_]:\n",
    "            space = space - height_list[_]\n",
    "            print(\"bin number \", bins, \":\", space)\n",
    "        #there is no space \n",
    "        else:\n",
    "            # add another bin\n",
    "            bins += 1\n",
    "            space = bin_space - height_list[_]\n",
    "            print(\"bin number \", bins, \":\", space)\n",
    "    return bins"
   ]
  },
  {
   "cell_type": "code",
   "execution_count": 2,
   "id": "c1be4230",
   "metadata": {},
   "outputs": [
    {
     "name": "stdout",
     "output_type": "stream",
     "text": [
      "bin number  1 : 0.7\n",
      "bin number  2 : 0.19999999999999996\n",
      "bin number  3 : 0.8\n",
      "bin number  3 : 0.6000000000000001\n",
      "bin number  3 : 0.4000000000000001\n",
      "bin number  3 : 5.551115123125783e-17\n",
      "bin number  4 : 0.5\n",
      "bin number  4 : 0.4\n",
      "Number of bins required in Next Fit : 4\n"
     ]
    }
   ],
   "source": [
    "height_list = [0.3, 0.8, 0.2, 0.2, 0.2, 0.4, 0.5, 0.1, ]\n",
    "bin_space = 1\n",
    "print(\"Number of bins required in Next Fit :\",\n",
    "                           next_fit(height_list, bin_space))"
   ]
  },
  {
   "cell_type": "markdown",
   "id": "6b897fb4",
   "metadata": {},
   "source": [
    "## first fit"
   ]
  },
  {
   "cell_type": "code",
   "execution_count": 3,
   "id": "97ab0883",
   "metadata": {},
   "outputs": [],
   "source": [
    "# Returns number of bins required using first fit\n",
    "def first_fit(height_list, bin_space):\n",
    "     \n",
    "    bins = 0\n",
    "\n",
    "    # Create an array to store remaining space in bins\n",
    "    # there can be at most n bins\n",
    "    n = len(height_list)\n",
    "    bin_list = [0]*n\n",
    "     \n",
    "    # Place items one by one\n",
    "    for i in range(n):\n",
    "        # Find the first bin that can accommodate\n",
    "        # height[i]\n",
    "        j = 0\n",
    "        while( j < bins):\n",
    "            if (bin_list[j] >= height_list[i]):\n",
    "                bin_list[j] = bin_list[j] - height_list[i]\n",
    "                print(bin_list)\n",
    "                break\n",
    "            j+=1\n",
    "             \n",
    "        # If no bin could accommodate height[i]\n",
    "        if (j == bins):\n",
    "            #create bin with space 10-height_list[i]\n",
    "            bin_list[bins] = bin_space - height_list[i]\n",
    "            bins= bins+1\n",
    "            print(bin_list)\n",
    "    return bins"
   ]
  },
  {
   "cell_type": "code",
   "execution_count": 4,
   "id": "dde31eb6",
   "metadata": {
    "scrolled": true
   },
   "outputs": [
    {
     "name": "stdout",
     "output_type": "stream",
     "text": [
      "[0.7, 0, 0, 0, 0, 0, 0, 0]\n",
      "[0.7, 0.19999999999999996, 0, 0, 0, 0, 0, 0]\n",
      "[0.49999999999999994, 0.19999999999999996, 0, 0, 0, 0, 0, 0]\n",
      "[0.29999999999999993, 0.19999999999999996, 0, 0, 0, 0, 0, 0]\n",
      "[0.09999999999999992, 0.19999999999999996, 0, 0, 0, 0, 0, 0]\n",
      "[0.09999999999999992, 0.19999999999999996, 0.6, 0, 0, 0, 0, 0]\n",
      "[0.09999999999999992, 0.19999999999999996, 0.09999999999999998, 0, 0, 0, 0, 0]\n",
      "[0.09999999999999992, 0.09999999999999995, 0.09999999999999998, 0, 0, 0, 0, 0]\n",
      "Number of bins required in first Fit : 3\n"
     ]
    }
   ],
   "source": [
    "height_list = [0.3, 0.8, 0.2, 0.2, 0.2, 0.4, 0.5, 0.1, ]\n",
    "bin_space = 1\n",
    "print(\"Number of bins required in first Fit :\",\n",
    "                           first_fit(height_list, bin_space))"
   ]
  },
  {
   "cell_type": "markdown",
   "id": "32484b5d",
   "metadata": {},
   "source": [
    "## best fit"
   ]
  },
  {
   "cell_type": "code",
   "execution_count": 5,
   "id": "35711119",
   "metadata": {},
   "outputs": [],
   "source": [
    "# using best fit\n",
    "def best_fit(height_list, bin_space):\n",
    "     \n",
    "    # Count of bins\n",
    "    bins = 0\n",
    " \n",
    "    # Create an array to store\n",
    "    # remaining space in bins\n",
    "    # there can be at most n bins\n",
    "    n = len(height_list)\n",
    "    bin_list = [0]*n\n",
    " \n",
    "    # Place items one by one\n",
    "    for i in range(n):\n",
    "         \n",
    "        # Find the first bin that\n",
    "        # can accommodate\n",
    "        # height[i]\n",
    "        j = 0\n",
    "         \n",
    "        # Initialize minimum space\n",
    "        # left and index\n",
    "        # of best bin\n",
    "        min = bin_space + 1\n",
    "        bi = 0\n",
    "        #find the minimum space\n",
    "        for j in range(bins):\n",
    "            if (bin_list[j] >= height_list[i] and bin_list[j] -\n",
    "                                       height_list[i] < min):\n",
    "                bi = j\n",
    "                min = bin_list[j] - height_list[i]\n",
    "             \n",
    "        # If no bin could accommodate height[i],\n",
    "        # create a new bin\n",
    "        if (min == bin_space + 1):\n",
    "            bin_list[bins] = bin_space - height_list[i]\n",
    "            bins += 1\n",
    "            print(bin_list)\n",
    "        else: # Assign the item to best bin\n",
    "            bin_list[bi] -= height_list[i]\n",
    "            print(bin_list)\n",
    "    return bins"
   ]
  },
  {
   "cell_type": "code",
   "execution_count": 6,
   "id": "45359e76",
   "metadata": {},
   "outputs": [
    {
     "name": "stdout",
     "output_type": "stream",
     "text": [
      "[0.7, 0, 0, 0, 0, 0, 0, 0]\n",
      "[0.7, 0.19999999999999996, 0, 0, 0, 0, 0, 0]\n",
      "[0.49999999999999994, 0.19999999999999996, 0, 0, 0, 0, 0, 0]\n",
      "[0.29999999999999993, 0.19999999999999996, 0, 0, 0, 0, 0, 0]\n",
      "[0.09999999999999992, 0.19999999999999996, 0, 0, 0, 0, 0, 0]\n",
      "[0.09999999999999992, 0.19999999999999996, 0.6, 0, 0, 0, 0, 0]\n",
      "[0.09999999999999992, 0.19999999999999996, 0.09999999999999998, 0, 0, 0, 0, 0]\n",
      "[0.09999999999999992, 0.09999999999999995, 0.09999999999999998, 0, 0, 0, 0, 0]\n",
      "Number of bins required in best Fit : 3\n"
     ]
    }
   ],
   "source": [
    "height_list = [0.3, 0.8, 0.2, 0.2, 0.2, 0.4, 0.5, 0.1, ]\n",
    "bin_space = 1\n",
    "print(\"Number of bins required in best Fit :\",\n",
    "                           best_fit(height_list, bin_space))"
   ]
  },
  {
   "cell_type": "code",
   "execution_count": null,
   "id": "04ff7093",
   "metadata": {},
   "outputs": [],
   "source": []
  }
 ],
 "metadata": {
  "kernelspec": {
   "display_name": "Python 3",
   "language": "python",
   "name": "python3"
  },
  "language_info": {
   "codemirror_mode": {
    "name": "ipython",
    "version": 3
   },
   "file_extension": ".py",
   "mimetype": "text/x-python",
   "name": "python",
   "nbconvert_exporter": "python",
   "pygments_lexer": "ipython3",
   "version": "3.9.7"
  }
 },
 "nbformat": 4,
 "nbformat_minor": 5
}
