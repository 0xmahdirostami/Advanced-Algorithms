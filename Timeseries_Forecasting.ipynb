{
  "cells": [
    {
      "cell_type": "markdown",
      "metadata": {
        "id": "view-in-github",
        "colab_type": "text"
      },
      "source": [
        "<a href=\"https://colab.research.google.com/github/0xtweeter/Advanced-Algorithms/blob/master/Timeseries_Forecasting.ipynb\" target=\"_parent\"><img src=\"https://colab.research.google.com/assets/colab-badge.svg\" alt=\"Open In Colab\"/></a>"
      ]
    },
    {
      "cell_type": "markdown",
      "metadata": {
        "id": "G3pUWFDrdTni"
      },
      "source": [
        "- 1.EDA ==> mahdi, amirreza \n",
        "- 2.label ==> DeepLOB mahdi\n",
        "- 3.ml model ==> DNN amirreza|classic ml morteza\n",
        "- 4.back test ==> morteza "
      ]
    },
    {
      "cell_type": "code",
      "execution_count": 69,
      "metadata": {
        "colab": {
          "base_uri": "https://localhost:8080/"
        },
        "id": "tnLlvDiripMt",
        "outputId": "66ff6d4a-f039-41d0-ea01-df07ee0dee42"
      },
      "outputs": [
        {
          "output_type": "stream",
          "name": "stdout",
          "text": [
            "--2022-11-10 11:36:14--  https://raw.githubusercontent.com/0xtweeter/Timeseries-Forecasting/main/data/LOB_NQU22-CME.rar\n",
            "Resolving raw.githubusercontent.com (raw.githubusercontent.com)... 185.199.108.133, 185.199.109.133, 185.199.110.133, ...\n",
            "Connecting to raw.githubusercontent.com (raw.githubusercontent.com)|185.199.108.133|:443... connected.\n",
            "HTTP request sent, awaiting response... 200 OK\n",
            "Length: 38220604 (36M) [application/octet-stream]\n",
            "Saving to: ‘LOB_NQU22-CME.rar’\n",
            "\n",
            "\rLOB_NQU22-CME.rar     0%[                    ]       0  --.-KB/s               \rLOB_NQU22-CME.rar   100%[===================>]  36.45M  --.-KB/s    in 0.1s    \n",
            "\n",
            "2022-11-10 11:36:14 (316 MB/s) - ‘LOB_NQU22-CME.rar’ saved [38220604/38220604]\n",
            "\n",
            "Looking in indexes: https://pypi.org/simple, https://us-python.pkg.dev/colab-wheels/public/simple/\n",
            "Requirement already satisfied: unrar in /usr/local/lib/python3.7/dist-packages (0.4)\n",
            "\n",
            "UNRAR 5.50 freeware      Copyright (c) 1993-2017 Alexander Roshal\n",
            "\n",
            "\n",
            "Extracting from /content/LOB_NQU22-CME.rar\n",
            "\n",
            "Extracting  LOB_NQU22-CME.csv                                            \b\b\b\b 10%\b\b\b\b 21%\b\b\b\b 32%\b\b\b\b 43%\b\b\b\b 54%\b\b\b\b 65%\b\b\b\b 76%\b\b\b\b 87%\b\b\b\b 98%\b\b\b\b 99%\b\b\b\b\b  OK \n",
            "All OK\n",
            "data downloaded and exteracted\n"
          ]
        }
      ],
      "source": [
        "#download data\n",
        "import os \n",
        "if not os.path.isfile('LOB_NQU22-CME.rar') and not os.path.isfile('LOB_NQU22-CME.csv'):\n",
        "    !wget https://raw.githubusercontent.com/0xtweeter/Timeseries-Forecasting/main/data/LOB_NQU22-CME.rar\n",
        "    !pip install unrar\n",
        "    !unrar x \"/content/LOB_NQU22-CME.rar\"\n",
        "    print('data downloaded and exteracted')\n",
        "    !rm \"/content/LOB_NQU22-CME.rar\"\n",
        "elif os.path.isfile('LOB_NQU22-CME.csv'):\n",
        "    print('csv file already existed.')"
      ]
    },
    {
      "cell_type": "code",
      "execution_count": 70,
      "metadata": {
        "id": "vNtv_VRTkE6T"
      },
      "outputs": [],
      "source": [
        "#import libraries\n",
        "import pandas as pd"
      ]
    },
    {
      "cell_type": "markdown",
      "metadata": {
        "id": "ykMB8lUfgS8Y"
      },
      "source": [
        "# EDA"
      ]
    },
    {
      "cell_type": "code",
      "execution_count": 71,
      "metadata": {
        "id": "2COgAfavkJUc"
      },
      "outputs": [],
      "source": [
        "#reading dataset\n",
        "pd.set_option('display.max_columns',None)  #to show all columns\n",
        "colnames=['time', 'open', 'high', 'low', 'close', 'volume', 'numtrades', 'bidvolume', 'askvolume', 'lob_bid', 'lob_ask'] #columns name\n",
        "data = pd.read_csv(\"/content/LOB_NQU22-CME.csv\", names=colnames, header=None) "
      ]
    },
    {
      "cell_type": "code",
      "execution_count": 72,
      "metadata": {
        "id": "OlnX6KVR4rMx"
      },
      "outputs": [],
      "source": [
        "df_eda = data.copy()"
      ]
    },
    {
      "cell_type": "code",
      "execution_count": 73,
      "metadata": {
        "colab": {
          "base_uri": "https://localhost:8080/"
        },
        "id": "v86sh4nxk7wV",
        "outputId": "9b60e35b-2a4b-4750-f491-61284b02e58a"
      },
      "outputs": [
        {
          "output_type": "execute_result",
          "data": {
            "text/plain": [
              "(72907, 11)"
            ]
          },
          "metadata": {},
          "execution_count": 73
        }
      ],
      "source": [
        "df_eda.shape"
      ]
    },
    {
      "cell_type": "code",
      "execution_count": 74,
      "metadata": {
        "colab": {
          "base_uri": "https://localhost:8080/",
          "height": 259
        },
        "id": "ljpAu0ph4oDZ",
        "outputId": "d3d60a87-b2e3-49bb-ce35-21b227bdf33e"
      },
      "outputs": [
        {
          "output_type": "execute_result",
          "data": {
            "text/plain": [
              "                   time     open      high       low     close  volume  \\\n",
              "0  2022-03-18  00:00:00  14066.5  14069.75  14061.75  14066.00   145.0   \n",
              "1  2022-03-18  00:01:00  14064.5  14067.75  14063.00  14066.25    66.0   \n",
              "2  2022-03-18  00:02:00  14067.0  14068.00  14064.75  14066.25    68.0   \n",
              "\n",
              "   numtrades  bidvolume  askvolume  \\\n",
              "0      144.0       60.0       85.0   \n",
              "1       64.0       36.0       30.0   \n",
              "2       64.0       36.0       32.0   \n",
              "\n",
              "                                             lob_bid  \\\n",
              "0  200.000000|1|578.750000|1|586.500000|1|6490.00...   \n",
              "1  200.000000|1|578.750000|1|586.500000|1|6490.00...   \n",
              "2  200.000000|1|578.750000|1|586.500000|1|6490.00...   \n",
              "\n",
              "                                             lob_ask  \n",
              "0  14019.500000|1|14019.750000|2|14020.000000|1|1...  \n",
              "1  14020.750000|1|14021.000000|1|14021.250000|1|1...  \n",
              "2  14022.500000|3|14022.750000|1|14023.000000|1|1...  "
            ],
            "text/html": [
              "\n",
              "  <div id=\"df-13703377-5f82-44d5-9745-ddb407086ae3\">\n",
              "    <div class=\"colab-df-container\">\n",
              "      <div>\n",
              "<style scoped>\n",
              "    .dataframe tbody tr th:only-of-type {\n",
              "        vertical-align: middle;\n",
              "    }\n",
              "\n",
              "    .dataframe tbody tr th {\n",
              "        vertical-align: top;\n",
              "    }\n",
              "\n",
              "    .dataframe thead th {\n",
              "        text-align: right;\n",
              "    }\n",
              "</style>\n",
              "<table border=\"1\" class=\"dataframe\">\n",
              "  <thead>\n",
              "    <tr style=\"text-align: right;\">\n",
              "      <th></th>\n",
              "      <th>time</th>\n",
              "      <th>open</th>\n",
              "      <th>high</th>\n",
              "      <th>low</th>\n",
              "      <th>close</th>\n",
              "      <th>volume</th>\n",
              "      <th>numtrades</th>\n",
              "      <th>bidvolume</th>\n",
              "      <th>askvolume</th>\n",
              "      <th>lob_bid</th>\n",
              "      <th>lob_ask</th>\n",
              "    </tr>\n",
              "  </thead>\n",
              "  <tbody>\n",
              "    <tr>\n",
              "      <th>0</th>\n",
              "      <td>2022-03-18  00:00:00</td>\n",
              "      <td>14066.5</td>\n",
              "      <td>14069.75</td>\n",
              "      <td>14061.75</td>\n",
              "      <td>14066.00</td>\n",
              "      <td>145.0</td>\n",
              "      <td>144.0</td>\n",
              "      <td>60.0</td>\n",
              "      <td>85.0</td>\n",
              "      <td>200.000000|1|578.750000|1|586.500000|1|6490.00...</td>\n",
              "      <td>14019.500000|1|14019.750000|2|14020.000000|1|1...</td>\n",
              "    </tr>\n",
              "    <tr>\n",
              "      <th>1</th>\n",
              "      <td>2022-03-18  00:01:00</td>\n",
              "      <td>14064.5</td>\n",
              "      <td>14067.75</td>\n",
              "      <td>14063.00</td>\n",
              "      <td>14066.25</td>\n",
              "      <td>66.0</td>\n",
              "      <td>64.0</td>\n",
              "      <td>36.0</td>\n",
              "      <td>30.0</td>\n",
              "      <td>200.000000|1|578.750000|1|586.500000|1|6490.00...</td>\n",
              "      <td>14020.750000|1|14021.000000|1|14021.250000|1|1...</td>\n",
              "    </tr>\n",
              "    <tr>\n",
              "      <th>2</th>\n",
              "      <td>2022-03-18  00:02:00</td>\n",
              "      <td>14067.0</td>\n",
              "      <td>14068.00</td>\n",
              "      <td>14064.75</td>\n",
              "      <td>14066.25</td>\n",
              "      <td>68.0</td>\n",
              "      <td>64.0</td>\n",
              "      <td>36.0</td>\n",
              "      <td>32.0</td>\n",
              "      <td>200.000000|1|578.750000|1|586.500000|1|6490.00...</td>\n",
              "      <td>14022.500000|3|14022.750000|1|14023.000000|1|1...</td>\n",
              "    </tr>\n",
              "  </tbody>\n",
              "</table>\n",
              "</div>\n",
              "      <button class=\"colab-df-convert\" onclick=\"convertToInteractive('df-13703377-5f82-44d5-9745-ddb407086ae3')\"\n",
              "              title=\"Convert this dataframe to an interactive table.\"\n",
              "              style=\"display:none;\">\n",
              "        \n",
              "  <svg xmlns=\"http://www.w3.org/2000/svg\" height=\"24px\"viewBox=\"0 0 24 24\"\n",
              "       width=\"24px\">\n",
              "    <path d=\"M0 0h24v24H0V0z\" fill=\"none\"/>\n",
              "    <path d=\"M18.56 5.44l.94 2.06.94-2.06 2.06-.94-2.06-.94-.94-2.06-.94 2.06-2.06.94zm-11 1L8.5 8.5l.94-2.06 2.06-.94-2.06-.94L8.5 2.5l-.94 2.06-2.06.94zm10 10l.94 2.06.94-2.06 2.06-.94-2.06-.94-.94-2.06-.94 2.06-2.06.94z\"/><path d=\"M17.41 7.96l-1.37-1.37c-.4-.4-.92-.59-1.43-.59-.52 0-1.04.2-1.43.59L10.3 9.45l-7.72 7.72c-.78.78-.78 2.05 0 2.83L4 21.41c.39.39.9.59 1.41.59.51 0 1.02-.2 1.41-.59l7.78-7.78 2.81-2.81c.8-.78.8-2.07 0-2.86zM5.41 20L4 18.59l7.72-7.72 1.47 1.35L5.41 20z\"/>\n",
              "  </svg>\n",
              "      </button>\n",
              "      \n",
              "  <style>\n",
              "    .colab-df-container {\n",
              "      display:flex;\n",
              "      flex-wrap:wrap;\n",
              "      gap: 12px;\n",
              "    }\n",
              "\n",
              "    .colab-df-convert {\n",
              "      background-color: #E8F0FE;\n",
              "      border: none;\n",
              "      border-radius: 50%;\n",
              "      cursor: pointer;\n",
              "      display: none;\n",
              "      fill: #1967D2;\n",
              "      height: 32px;\n",
              "      padding: 0 0 0 0;\n",
              "      width: 32px;\n",
              "    }\n",
              "\n",
              "    .colab-df-convert:hover {\n",
              "      background-color: #E2EBFA;\n",
              "      box-shadow: 0px 1px 2px rgba(60, 64, 67, 0.3), 0px 1px 3px 1px rgba(60, 64, 67, 0.15);\n",
              "      fill: #174EA6;\n",
              "    }\n",
              "\n",
              "    [theme=dark] .colab-df-convert {\n",
              "      background-color: #3B4455;\n",
              "      fill: #D2E3FC;\n",
              "    }\n",
              "\n",
              "    [theme=dark] .colab-df-convert:hover {\n",
              "      background-color: #434B5C;\n",
              "      box-shadow: 0px 1px 3px 1px rgba(0, 0, 0, 0.15);\n",
              "      filter: drop-shadow(0px 1px 2px rgba(0, 0, 0, 0.3));\n",
              "      fill: #FFFFFF;\n",
              "    }\n",
              "  </style>\n",
              "\n",
              "      <script>\n",
              "        const buttonEl =\n",
              "          document.querySelector('#df-13703377-5f82-44d5-9745-ddb407086ae3 button.colab-df-convert');\n",
              "        buttonEl.style.display =\n",
              "          google.colab.kernel.accessAllowed ? 'block' : 'none';\n",
              "\n",
              "        async function convertToInteractive(key) {\n",
              "          const element = document.querySelector('#df-13703377-5f82-44d5-9745-ddb407086ae3');\n",
              "          const dataTable =\n",
              "            await google.colab.kernel.invokeFunction('convertToInteractive',\n",
              "                                                     [key], {});\n",
              "          if (!dataTable) return;\n",
              "\n",
              "          const docLinkHtml = 'Like what you see? Visit the ' +\n",
              "            '<a target=\"_blank\" href=https://colab.research.google.com/notebooks/data_table.ipynb>data table notebook</a>'\n",
              "            + ' to learn more about interactive tables.';\n",
              "          element.innerHTML = '';\n",
              "          dataTable['output_type'] = 'display_data';\n",
              "          await google.colab.output.renderOutput(dataTable, element);\n",
              "          const docLink = document.createElement('div');\n",
              "          docLink.innerHTML = docLinkHtml;\n",
              "          element.appendChild(docLink);\n",
              "        }\n",
              "      </script>\n",
              "    </div>\n",
              "  </div>\n",
              "  "
            ]
          },
          "metadata": {},
          "execution_count": 74
        }
      ],
      "source": [
        "df_eda.head(3)"
      ]
    },
    {
      "cell_type": "code",
      "execution_count": 75,
      "metadata": {
        "colab": {
          "base_uri": "https://localhost:8080/"
        },
        "id": "2ktWV1m167Pf",
        "outputId": "fb32b4e3-23d7-482d-fa79-dbdd0387f043"
      },
      "outputs": [
        {
          "output_type": "stream",
          "name": "stdout",
          "text": [
            "<class 'pandas.core.frame.DataFrame'>\n",
            "RangeIndex: 72907 entries, 0 to 72906\n",
            "Data columns (total 11 columns):\n",
            " #   Column     Non-Null Count  Dtype  \n",
            "---  ------     --------------  -----  \n",
            " 0   time       72907 non-null  object \n",
            " 1   open       72907 non-null  float64\n",
            " 2   high       72907 non-null  float64\n",
            " 3   low        72907 non-null  float64\n",
            " 4   close      72907 non-null  float64\n",
            " 5   volume     72907 non-null  float64\n",
            " 6   numtrades  72907 non-null  float64\n",
            " 7   bidvolume  72907 non-null  float64\n",
            " 8   askvolume  72907 non-null  float64\n",
            " 9   lob_bid    72907 non-null  object \n",
            " 10  lob_ask    72907 non-null  object \n",
            "dtypes: float64(8), object(3)\n",
            "memory usage: 6.1+ MB\n"
          ]
        }
      ],
      "source": [
        "df_eda.info()"
      ]
    },
    {
      "cell_type": "code",
      "execution_count": 62,
      "metadata": {
        "colab": {
          "base_uri": "https://localhost:8080/",
          "height": 300
        },
        "id": "8zK3kJq87aub",
        "outputId": "5bcea865-391d-4a24-dc1c-0d3aeeef7789"
      },
      "outputs": [
        {
          "output_type": "execute_result",
          "data": {
            "text/plain": [
              "               open          high           low         close        volume  \\\n",
              "count  72907.000000  72907.000000  72907.000000  72907.000000  72907.000000   \n",
              "mean   13339.652328  13343.960775  13335.343534  13339.642065    453.720521   \n",
              "std     1264.345092   1263.763152   1264.884332   1264.338144    702.840828   \n",
              "min    11071.000000  11076.750000  11068.500000  11071.250000      1.000000   \n",
              "25%    12123.000000  12127.250000  12118.000000  12122.875000     60.000000   \n",
              "50%    13458.250000  13464.250000  13453.500000  13458.500000    140.000000   \n",
              "75%    14458.250000  14462.500000  14453.750000  14458.250000    600.000000   \n",
              "max    15310.750000  15311.500000  15307.000000  15310.750000  14469.000000   \n",
              "\n",
              "          numtrades     bidvolume     askvolume  \n",
              "count  72907.000000  72907.000000  72907.000000  \n",
              "mean     413.374491    227.202546    226.517975  \n",
              "std      633.438076    354.099034    354.567693  \n",
              "min        1.000000      0.000000      0.000000  \n",
              "25%       55.000000     29.000000     29.000000  \n",
              "50%      128.000000     70.000000     70.000000  \n",
              "75%      549.000000    299.000000    298.000000  \n",
              "max    11819.000000   7066.000000   7403.000000  "
            ],
            "text/html": [
              "\n",
              "  <div id=\"df-3fd09158-072b-4c39-aa85-5649600c1306\">\n",
              "    <div class=\"colab-df-container\">\n",
              "      <div>\n",
              "<style scoped>\n",
              "    .dataframe tbody tr th:only-of-type {\n",
              "        vertical-align: middle;\n",
              "    }\n",
              "\n",
              "    .dataframe tbody tr th {\n",
              "        vertical-align: top;\n",
              "    }\n",
              "\n",
              "    .dataframe thead th {\n",
              "        text-align: right;\n",
              "    }\n",
              "</style>\n",
              "<table border=\"1\" class=\"dataframe\">\n",
              "  <thead>\n",
              "    <tr style=\"text-align: right;\">\n",
              "      <th></th>\n",
              "      <th>open</th>\n",
              "      <th>high</th>\n",
              "      <th>low</th>\n",
              "      <th>close</th>\n",
              "      <th>volume</th>\n",
              "      <th>numtrades</th>\n",
              "      <th>bidvolume</th>\n",
              "      <th>askvolume</th>\n",
              "    </tr>\n",
              "  </thead>\n",
              "  <tbody>\n",
              "    <tr>\n",
              "      <th>count</th>\n",
              "      <td>72907.000000</td>\n",
              "      <td>72907.000000</td>\n",
              "      <td>72907.000000</td>\n",
              "      <td>72907.000000</td>\n",
              "      <td>72907.000000</td>\n",
              "      <td>72907.000000</td>\n",
              "      <td>72907.000000</td>\n",
              "      <td>72907.000000</td>\n",
              "    </tr>\n",
              "    <tr>\n",
              "      <th>mean</th>\n",
              "      <td>13339.652328</td>\n",
              "      <td>13343.960775</td>\n",
              "      <td>13335.343534</td>\n",
              "      <td>13339.642065</td>\n",
              "      <td>453.720521</td>\n",
              "      <td>413.374491</td>\n",
              "      <td>227.202546</td>\n",
              "      <td>226.517975</td>\n",
              "    </tr>\n",
              "    <tr>\n",
              "      <th>std</th>\n",
              "      <td>1264.345092</td>\n",
              "      <td>1263.763152</td>\n",
              "      <td>1264.884332</td>\n",
              "      <td>1264.338144</td>\n",
              "      <td>702.840828</td>\n",
              "      <td>633.438076</td>\n",
              "      <td>354.099034</td>\n",
              "      <td>354.567693</td>\n",
              "    </tr>\n",
              "    <tr>\n",
              "      <th>min</th>\n",
              "      <td>11071.000000</td>\n",
              "      <td>11076.750000</td>\n",
              "      <td>11068.500000</td>\n",
              "      <td>11071.250000</td>\n",
              "      <td>1.000000</td>\n",
              "      <td>1.000000</td>\n",
              "      <td>0.000000</td>\n",
              "      <td>0.000000</td>\n",
              "    </tr>\n",
              "    <tr>\n",
              "      <th>25%</th>\n",
              "      <td>12123.000000</td>\n",
              "      <td>12127.250000</td>\n",
              "      <td>12118.000000</td>\n",
              "      <td>12122.875000</td>\n",
              "      <td>60.000000</td>\n",
              "      <td>55.000000</td>\n",
              "      <td>29.000000</td>\n",
              "      <td>29.000000</td>\n",
              "    </tr>\n",
              "    <tr>\n",
              "      <th>50%</th>\n",
              "      <td>13458.250000</td>\n",
              "      <td>13464.250000</td>\n",
              "      <td>13453.500000</td>\n",
              "      <td>13458.500000</td>\n",
              "      <td>140.000000</td>\n",
              "      <td>128.000000</td>\n",
              "      <td>70.000000</td>\n",
              "      <td>70.000000</td>\n",
              "    </tr>\n",
              "    <tr>\n",
              "      <th>75%</th>\n",
              "      <td>14458.250000</td>\n",
              "      <td>14462.500000</td>\n",
              "      <td>14453.750000</td>\n",
              "      <td>14458.250000</td>\n",
              "      <td>600.000000</td>\n",
              "      <td>549.000000</td>\n",
              "      <td>299.000000</td>\n",
              "      <td>298.000000</td>\n",
              "    </tr>\n",
              "    <tr>\n",
              "      <th>max</th>\n",
              "      <td>15310.750000</td>\n",
              "      <td>15311.500000</td>\n",
              "      <td>15307.000000</td>\n",
              "      <td>15310.750000</td>\n",
              "      <td>14469.000000</td>\n",
              "      <td>11819.000000</td>\n",
              "      <td>7066.000000</td>\n",
              "      <td>7403.000000</td>\n",
              "    </tr>\n",
              "  </tbody>\n",
              "</table>\n",
              "</div>\n",
              "      <button class=\"colab-df-convert\" onclick=\"convertToInteractive('df-3fd09158-072b-4c39-aa85-5649600c1306')\"\n",
              "              title=\"Convert this dataframe to an interactive table.\"\n",
              "              style=\"display:none;\">\n",
              "        \n",
              "  <svg xmlns=\"http://www.w3.org/2000/svg\" height=\"24px\"viewBox=\"0 0 24 24\"\n",
              "       width=\"24px\">\n",
              "    <path d=\"M0 0h24v24H0V0z\" fill=\"none\"/>\n",
              "    <path d=\"M18.56 5.44l.94 2.06.94-2.06 2.06-.94-2.06-.94-.94-2.06-.94 2.06-2.06.94zm-11 1L8.5 8.5l.94-2.06 2.06-.94-2.06-.94L8.5 2.5l-.94 2.06-2.06.94zm10 10l.94 2.06.94-2.06 2.06-.94-2.06-.94-.94-2.06-.94 2.06-2.06.94z\"/><path d=\"M17.41 7.96l-1.37-1.37c-.4-.4-.92-.59-1.43-.59-.52 0-1.04.2-1.43.59L10.3 9.45l-7.72 7.72c-.78.78-.78 2.05 0 2.83L4 21.41c.39.39.9.59 1.41.59.51 0 1.02-.2 1.41-.59l7.78-7.78 2.81-2.81c.8-.78.8-2.07 0-2.86zM5.41 20L4 18.59l7.72-7.72 1.47 1.35L5.41 20z\"/>\n",
              "  </svg>\n",
              "      </button>\n",
              "      \n",
              "  <style>\n",
              "    .colab-df-container {\n",
              "      display:flex;\n",
              "      flex-wrap:wrap;\n",
              "      gap: 12px;\n",
              "    }\n",
              "\n",
              "    .colab-df-convert {\n",
              "      background-color: #E8F0FE;\n",
              "      border: none;\n",
              "      border-radius: 50%;\n",
              "      cursor: pointer;\n",
              "      display: none;\n",
              "      fill: #1967D2;\n",
              "      height: 32px;\n",
              "      padding: 0 0 0 0;\n",
              "      width: 32px;\n",
              "    }\n",
              "\n",
              "    .colab-df-convert:hover {\n",
              "      background-color: #E2EBFA;\n",
              "      box-shadow: 0px 1px 2px rgba(60, 64, 67, 0.3), 0px 1px 3px 1px rgba(60, 64, 67, 0.15);\n",
              "      fill: #174EA6;\n",
              "    }\n",
              "\n",
              "    [theme=dark] .colab-df-convert {\n",
              "      background-color: #3B4455;\n",
              "      fill: #D2E3FC;\n",
              "    }\n",
              "\n",
              "    [theme=dark] .colab-df-convert:hover {\n",
              "      background-color: #434B5C;\n",
              "      box-shadow: 0px 1px 3px 1px rgba(0, 0, 0, 0.15);\n",
              "      filter: drop-shadow(0px 1px 2px rgba(0, 0, 0, 0.3));\n",
              "      fill: #FFFFFF;\n",
              "    }\n",
              "  </style>\n",
              "\n",
              "      <script>\n",
              "        const buttonEl =\n",
              "          document.querySelector('#df-3fd09158-072b-4c39-aa85-5649600c1306 button.colab-df-convert');\n",
              "        buttonEl.style.display =\n",
              "          google.colab.kernel.accessAllowed ? 'block' : 'none';\n",
              "\n",
              "        async function convertToInteractive(key) {\n",
              "          const element = document.querySelector('#df-3fd09158-072b-4c39-aa85-5649600c1306');\n",
              "          const dataTable =\n",
              "            await google.colab.kernel.invokeFunction('convertToInteractive',\n",
              "                                                     [key], {});\n",
              "          if (!dataTable) return;\n",
              "\n",
              "          const docLinkHtml = 'Like what you see? Visit the ' +\n",
              "            '<a target=\"_blank\" href=https://colab.research.google.com/notebooks/data_table.ipynb>data table notebook</a>'\n",
              "            + ' to learn more about interactive tables.';\n",
              "          element.innerHTML = '';\n",
              "          dataTable['output_type'] = 'display_data';\n",
              "          await google.colab.output.renderOutput(dataTable, element);\n",
              "          const docLink = document.createElement('div');\n",
              "          docLink.innerHTML = docLinkHtml;\n",
              "          element.appendChild(docLink);\n",
              "        }\n",
              "      </script>\n",
              "    </div>\n",
              "  </div>\n",
              "  "
            ]
          },
          "metadata": {},
          "execution_count": 62
        }
      ],
      "source": [
        "df_eda.describe()"
      ]
    },
    {
      "cell_type": "code",
      "source": [
        "from google.colab import drive\n",
        "drive.mount('/content/drive')"
      ],
      "metadata": {
        "id": "SF1l8WaLVF8e"
      },
      "execution_count": null,
      "outputs": []
    },
    {
      "cell_type": "markdown",
      "metadata": {
        "id": "XFW8FmDagf7X"
      },
      "source": [
        "# DATA LABELING"
      ]
    },
    {
      "cell_type": "markdown",
      "metadata": {
        "id": "DmcOGehGfQnI"
      },
      "source": [
        "# ML MODELING"
      ]
    },
    {
      "cell_type": "markdown",
      "metadata": {
        "id": "8Rs7_lSvguAo"
      },
      "source": [
        "## 1.CLASSIC ML"
      ]
    },
    {
      "cell_type": "markdown",
      "metadata": {
        "id": "8NoT3C_fgtxC"
      },
      "source": [
        "## 2.DNN"
      ]
    },
    {
      "cell_type": "markdown",
      "metadata": {
        "id": "hYpvaM5jgjdw"
      },
      "source": [
        "# BACK TESTING"
      ]
    },
    {
      "cell_type": "markdown",
      "metadata": {
        "id": "p2_11nGSgnaQ"
      },
      "source": [
        "# LIVE TRADING"
      ]
    }
  ],
  "metadata": {
    "colab": {
      "collapsed_sections": [],
      "provenance": [],
      "authorship_tag": "ABX9TyOdI7xFqaOQPBJ1rOfmIFWF",
      "include_colab_link": true
    },
    "kernelspec": {
      "display_name": "Python 3",
      "name": "python3"
    },
    "language_info": {
      "name": "python"
    }
  },
  "nbformat": 4,
  "nbformat_minor": 0
}